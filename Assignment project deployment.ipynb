{
 "cells": [
  {
   "cell_type": "code",
   "execution_count": 1,
   "id": "f12b21dc-933c-4874-827e-29132b55a0c4",
   "metadata": {},
   "outputs": [],
   "source": [
    "import pandas as pd \n",
    "import pickle"
   ]
  },
  {
   "cell_type": "code",
   "execution_count": 2,
   "id": "20efe6b4-3f8f-4cc5-9c4a-c9165cdb1714",
   "metadata": {},
   "outputs": [
    {
     "data": {
      "text/plain": [
       "array([65500.])"
      ]
     },
     "execution_count": 2,
     "metadata": {},
     "output_type": "execute_result"
    }
   ],
   "source": [
    "res1=pickle.load(open('finale.sav','rb'))\n",
    "res2=res1.predict([[42.33,2.3,1,0]])\n",
    "res2"
   ]
  },
  {
   "cell_type": "code",
   "execution_count": null,
   "id": "e825cdba-6145-48df-995d-1b962950558e",
   "metadata": {},
   "outputs": [],
   "source": []
  }
 ],
 "metadata": {
  "kernelspec": {
   "display_name": "Python 3 (ipykernel)",
   "language": "python",
   "name": "python3"
  },
  "language_info": {
   "codemirror_mode": {
    "name": "ipython",
    "version": 3
   },
   "file_extension": ".py",
   "mimetype": "text/x-python",
   "name": "python",
   "nbconvert_exporter": "python",
   "pygments_lexer": "ipython3",
   "version": "3.10.14"
  }
 },
 "nbformat": 4,
 "nbformat_minor": 5
}
